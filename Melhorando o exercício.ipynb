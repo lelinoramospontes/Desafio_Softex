{
 "cells": [
  {
   "cell_type": "raw",
   "id": "eb2108ad",
   "metadata": {},
   "source": [
    "Após uma prova de vestibular, uma escola quer identificar quantos dos seus alunos foram aprovados em cada turma de formandos. Ela quer saber qual aluno teve a maior nota e de qual turma ele é. Nessa escola, há quatro turmas (A, B, C e D) com vinte e cinco alunos cada.\n",
    "\n",
    "Elabore um algoritmo que solicite o nome e a nota do vestibular aos alunos. Depois, informe quantos deles foram aprovados, de que turma são, qual a maior nota em cada turma e qual aluno teve a maior nota de todas.\n",
    "\n",
    "Para que o aluno seja aprovado no vestibular, ele deverá obter nota maior ou igual a 7.\n",
    "\n",
    "ATENÇÃO: As notas por turma não podem se repetir.\n"
   ]
  },
  {
   "cell_type": "code",
   "execution_count": null,
   "id": "2dc69489",
   "metadata": {},
   "outputs": [],
   "source": [
    "#Entrada de dados nome, nota e turma do aluno\n",
    "nome=str(input(\"Digite o nome do aluno:\"))\n",
    "nota = float(input(\"Digite a nota do aluno:\"))\n",
    "turma=str(input(\"Digite a turma do aluno:\"))\n",
    "print('\\nO Aluno {}, tem nota {}'.format(nome,nota))\n",
    "\n",
    "print(\"=\"*40)\n",
    "\n",
    "#Quantidade de alunos aprovados\n",
    "Qap==0                                                \n",
    "if nota>=7:Qap=Qap+1\n",
    "print(\"\\nQuantidade de alunos aprovados:\"+\" \"+ str(Qap))\n",
    "        \n",
    "print(\"=\"*40)\n",
    "\n",
    "#Nome e quantidade de aluno aprovados na turma A\n",
    "print(\"\\nTurma A:\")                                 \n",
    "nomeA = nome \n",
    "if nota>=7 and turma==\"a\":print('\\nO Aluno {}, tem nota {}'.format(nome,nota))\n",
    "\n",
    "maiorA==0\n",
    "if turma==\"a\" and nota>maiorA: maiorA = nota\n",
    "print(\"A maior nota da turma é:\"+ str(maior))\n",
    "\n",
    "print(\"=\"*40)\n",
    "\n",
    "#Nome e quantidade de aluno aprovados na turma B print(\"\\nTurma B:\")                                   \n",
    "if nota>=7 and turma==\"b\": print('\\nO Aluno {}, tem nota {}'.format(nome,nota))\n",
    "\n",
    "maiorB==0\n",
    "if turma==\"b\" and nota>maiorB: maiorB = nota\n",
    "print(\"A maior nota da turma é:\"+ str(maiorB))\n",
    "\n",
    "print(\"=\"*40)\n",
    "\n",
    "#Nome e quantidade de aluno aprovados na turma C\n",
    "print(\"\\nTurma C:\")                                  \n",
    "if nota>=7 and turma==\"c\": print('\\nO Aluno {}, tem nota {}'.format(nome,nota))\n",
    "\n",
    "maiorC==0\n",
    "if turma==\"c\" and nota>maiorC: maiorC = nota\n",
    "print(\"A maior nota da turma é:\"+ str(maiorC))\n",
    "\n",
    "print(\"=\"*40)\n",
    "\n",
    "#Nome e quantidade de aluno aprovados na turma D\n",
    "print(\"\\nTurma D:\")                                  \n",
    "if nota>=7 and turma==\"d\": print('\\nO Aluno {}, tem nota {}'.format(nome,nota))\n",
    "\n",
    "maiorD==0\n",
    "if turma==\"d\" and nota>maiorD: maiorD = nota\n",
    "print(\"A maior nota da turma é:\"+ str(maiorD))\n",
    "\n",
    "print(\"=\"*40)\n",
    "\n",
    "#Aluno com maior nota geral\n",
    "maior==0                                             \n",
    "if nota>maior: \n",
    "    maior = nota\n",
    "    nome_maior_geral = nome\n",
    "print('\\nO Aluno com maior nota geral é: {} com nota {}'.format(nome_maior_geral,maior))"
   ]
  }
 ],
 "metadata": {
  "kernelspec": {
   "display_name": "Python 3 (ipykernel)",
   "language": "python",
   "name": "python3"
  },
  "language_info": {
   "codemirror_mode": {
    "name": "ipython",
    "version": 3
   },
   "file_extension": ".py",
   "mimetype": "text/x-python",
   "name": "python",
   "nbconvert_exporter": "python",
   "pygments_lexer": "ipython3",
   "version": "3.9.7"
  }
 },
 "nbformat": 4,
 "nbformat_minor": 5
}
